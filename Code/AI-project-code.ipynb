{
 "cells": [
  {
   "cell_type": "code",
   "execution_count": 2,
   "id": "d707433c-281a-4e01-9a58-cbf911a932df",
   "metadata": {},
   "outputs": [
    {
     "name": "stdout",
     "output_type": "stream",
     "text": [
      "thats the beginning!\n"
     ]
    }
   ],
   "source": [
    "print(\"thats the beginning!\")"
   ]
  },
  {
   "cell_type": "code",
   "execution_count": null,
   "id": "23c6adce-7f9f-4f81-bafb-bced148bb745",
   "metadata": {},
   "outputs": [],
   "source": []
  },
  {
   "cell_type": "code",
   "execution_count": null,
   "id": "9176880c-4ff1-4a69-a77e-49bbb3dda9a9",
   "metadata": {},
   "outputs": [],
   "source": []
  }
 ],
 "metadata": {
  "kernelspec": {
   "display_name": "Python 3 (ipykernel)",
   "language": "python",
   "name": "python3"
  },
  "language_info": {
   "codemirror_mode": {
    "name": "ipython",
    "version": 3
   },
   "file_extension": ".py",
   "mimetype": "text/x-python",
   "name": "python",
   "nbconvert_exporter": "python",
   "pygments_lexer": "ipython3",
   "version": "3.10.14"
  }
 },
 "nbformat": 4,
 "nbformat_minor": 5
}
