{
 "cells": [
  {
   "cell_type": "markdown",
   "metadata": {},
   "source": [
    "## Loading saved model and training on bioavailability"
   ]
  },
  {
   "cell_type": "code",
   "execution_count": null,
   "metadata": {},
   "outputs": [],
   "source": [
    "#load bioavailabity data\n",
    "bio_avail_data = pd.read_csv(\"../Data/Bioavailibility.csv\")\n",
    "#print(bio_avail_data.columns)"
   ]
  },
  {
   "cell_type": "code",
   "execution_count": null,
   "metadata": {},
   "outputs": [],
   "source": [
    "#prepare data like we did for solubility:\n",
    "\n",
    "# Prepare the oral bioavailability dataset\n",
    "oral_data = oral_data.dropna(subset=['Oral Bioavailability'])\n",
    "y_oral = oral_data[\"Oral Bioavailability\"]\n",
    "smiles_oral = oral_data[\"SMILES\"]\n",
    "X_oral = generate_features(smiles_oral)\n",
    "\n",
    "X_train_oral, X_test_oral, y_train_oral, y_test_oral = train_test_split(X_oral, y_oral, test_size=0.2, random_state=42)\n",
    "y_train_oral = y_train_oral.values.astype(np.float32)\n",
    "y_test_oral = y_test_oral.values.astype(np.float32)\n",
    "\n",
    "scaler_oral = StandardScaler()\n",
    "X_train_oral = scaler_oral.fit_transform(X_train_oral)\n",
    "X_test_oral = scaler_oral.transform(X_test_oral)\n",
    "\n",
    "X_train_oral_tensor = torch.tensor(X_train_oral, dtype=torch.float32)\n",
    "y_train_oral_tensor = torch.tensor(y_train_oral, dtype=torch.float32)\n",
    "X_test_oral_tensor = torch.tensor(X_test_oral, dtype=torch.float32)\n",
    "y_test_oral_tensor = torch.tensor(y_test_oral, dtype=torch.float32)\n",
    "\n",
    "y_train_oral_tensor = y_train_oral_tensor.view(-1, 1)\n",
    "y_test_oral_tensor = y_test_oral_tensor.view(-1, 1)\n"
   ]
  },
  {
   "cell_type": "code",
   "execution_count": null,
   "metadata": {},
   "outputs": [],
   "source": [
    "#loading saved model\n",
    "model = SolubilityPredictor(input_dim, hidden_dim, output_dim)\n",
    "model.load_state_dict(torch.load('solubility_model.pth'))\n",
    "\n",
    "# Optionally, modify the final layer if the output dimension is different\n"
   ]
  },
  {
   "cell_type": "code",
   "execution_count": null,
   "metadata": {},
   "outputs": [],
   "source": [
    "# Fine-tune the model on the new dataset. You might want to use a lower learning rate for fine-tuning.\n",
    "\n",
    "learning_rate_finetune = 0.0001  # Lower learning rate for fine-tuning\n",
    "optimizer = optim.Adam(model.parameters(), lr=learning_rate_finetune)\n",
    "\n",
    "# Create DataLoader for the new dataset\n",
    "train_dataset_oral = TensorDataset(X_train_oral_tensor, y_train_oral_tensor)\n",
    "train_loader_oral = DataLoader(train_dataset_oral, batch_size=batch_size, shuffle=True)\n",
    "\n",
    "# Fine-tune the model...\n",
    "for epoch in range(num_epochs):\n",
    "    model.train()\n",
    "    for inputs, targets in train_loader_oral:\n",
    "        optimizer.zero_grad()\n",
    "        outputs = model(inputs)\n",
    "        loss = criterion(outputs, targets)\n",
    "        loss.backward()\n",
    "        optimizer.step()\n",
    "\n",
    "# Evaluate on the new test set\n",
    "model.eval()\n",
    "with torch.no_grad():\n",
    "    predictions = model(X_test_oral_tensor)\n",
    "    loss = criterion(predictions, y_test_oral_tensor)\n",
    "    print(f'Test Loss: {loss.item()}')\n"
   ]
  },
  {
   "cell_type": "markdown",
   "metadata": {},
   "source": [
    "#### Notes:\n",
    "\n",
    "Adjust the learning rate: When fine-tuning, it is often beneficial to use a lower learning rate to avoid large updates to the pre-trained weights.\n",
    "\n",
    "Regularization: You can also consider adding dropout layers or other regularization techniques to avoid overfitting, especially when fine-tuning on a smaller dataset.\n",
    "\n",
    "Layer freezing: Depending on your problem, you might want to freeze some layers (e.g., the first few layers) and only fine-tune the later layers or the final layer."
   ]
  }
 ],
 "metadata": {
  "language_info": {
   "name": "python"
  }
 },
 "nbformat": 4,
 "nbformat_minor": 2
}
