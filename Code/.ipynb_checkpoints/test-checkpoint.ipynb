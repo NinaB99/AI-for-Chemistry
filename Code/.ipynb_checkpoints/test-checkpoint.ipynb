{
 "cells": [
  {
   "cell_type": "markdown",
   "metadata": {},
   "source": [
    "Article from Philippe:\n",
    "https://practicalcheminformatics.blogspot.com/2023/06/getting-real-with-molecular-property.html\n"
   ]
  },
  {
   "cell_type": "code",
   "execution_count": 6,
   "metadata": {},
   "outputs": [
    {
     "name": "stdout",
     "output_type": "stream",
     "text": [
      "Index(['Internal ID', 'Vendor ID', 'SMILES', 'CollectionName',\n",
      "       'LOG HLM_CLint (mL/min/kg)', 'LOG MDR1-MDCK ER (B-A/A-B)',\n",
      "       'LOG SOLUBILITY PH 6.8 (ug/mL)',\n",
      "       'LOG PLASMA PROTEIN BINDING (HUMAN) (% unbound)',\n",
      "       'LOG PLASMA PROTEIN BINDING (RAT) (% unbound)',\n",
      "       'LOG RLM_CLint (mL/min/kg)'],\n",
      "      dtype='object')\n",
      "Index(['No', 'Name', 'Updated SMILES', '%F', 'logK(%F)', 'Category', 'Source'], dtype='object')\n"
     ]
    }
   ],
   "source": [
    "# load biogen data\n",
    "import pandas as pd\n",
    "\n",
    "biogen_data=pd.read_csv(\"../Data/ADME_public_set_3521.csv\")\n",
    "print(biogen_data.columns)\n",
    "\n",
    "#load bioavailabity data\n",
    "bio_avail_data = pd.read_csv(\"../Data/11095_2013_1222_MOESM2_ESM.csv\",sep=\";\")\n",
    "print(bio_avail_data.columns)\n",
    "\n"
   ]
  },
  {
   "cell_type": "markdown",
   "metadata": {},
   "source": [
    "use feed-forward NN using pytorch.\n",
    "train on solubility from dataset 1 first.\n",
    "then optimize for bioavailability"
   ]
  },
  {
   "cell_type": "code",
   "execution_count": 14,
   "metadata": {},
   "outputs": [
    {
     "name": "stdout",
     "output_type": "stream",
     "text": [
      "2173\n"
     ]
    }
   ],
   "source": [
    "import torch\n",
    "import torch.nn as nn\n",
    "import torch.optim as optim\n",
    "from torch.utils.data import DataLoader, TensorDataset\n",
    "from sklearn.model_selection import train_test_split\n",
    "from rdkit import Chem\n",
    "from rdkit.Chem import AllChem\n",
    "import numpy as np\n",
    "from deepchem.feat import RDKitDescriptors\n",
    "\n",
    "#### DATA PREPARATION ####\n",
    "\n",
    "# Function to generate features from SMILES strings using RDKit descriptors\n",
    "def generate_features(smiles_list):\n",
    "    featurizer = RDKitDescriptors()\n",
    "    features = featurizer.featurize(smiles_list)\n",
    "    # Drop features containing invalid values\n",
    "    features = features[:, ~np.isnan(features).any(axis=0)]\n",
    "    return features\n",
    "\n",
    "#remove nan values from data\n",
    "biogen_data = biogen_data.dropna(subset=['LOG SOLUBILITY PH 6.8 (ug/mL)'])\n",
    "\n",
    "#get x and y data (x is the molecular descriptors, y is the solubility)\n",
    "y_data = biogen_data[\"LOG SOLUBILITY PH 6.8 (ug/mL)\"]\n",
    "\n",
    "print(len(y_data))\n",
    "\n",
    "# Generate features from SMILES data (get smiles from df)\n",
    "smiles = biogen_data[\"SMILES\"]\n",
    "X_data = generate_features(smiles)\n",
    "\n",
    "#split data into training and validation using train_test_split\n",
    "X_train, X_test, y_train, y_test = train_test_split(X_data, y_data, test_size=0.2, random_state=42)\n",
    "# Convert y pandas Series to NumPy array\n",
    "y_train = y_train.values.astype(np.float32)\n",
    "y_test = y_test.values.astype(np.float32)\n",
    "\n",
    "#convert data to pytorch tensors (like numpy arrays but for pytorch)\n",
    "X_train_tensor = torch.tensor(X_train, dtype=torch.float32)\n",
    "y_train_tensor = torch.tensor(y_train, dtype=torch.float32)\n",
    "X_test_tensor = torch.tensor(X_test, dtype=torch.float32)\n",
    "y_test_tensor = torch.tensor(y_test, dtype=torch.float32)\n",
    "\n",
    "# Reshape the target tensor to match the shape of the output tensor\n",
    "y_train_tensor = y_train_tensor.view(-1, 1)\n",
    "# Reshape the target tensor to match the shape of the output tensor\n",
    "y_test_tensor = y_test_tensor.view(-1, 1)\n"
   ]
  },
  {
   "cell_type": "code",
   "execution_count": 15,
   "metadata": {},
   "outputs": [
    {
     "data": {
      "text/plain": [
       "tensor([[1.5611],\n",
       "        [1.2833],\n",
       "        [1.4866],\n",
       "        ...,\n",
       "        [1.6120],\n",
       "        [1.4669],\n",
       "        [1.6514]])"
      ]
     },
     "execution_count": 15,
     "metadata": {},
     "output_type": "execute_result"
    }
   ],
   "source": [
    "y_train_tensor"
   ]
  },
  {
   "cell_type": "code",
   "execution_count": 16,
   "metadata": {},
   "outputs": [
    {
     "name": "stdout",
     "output_type": "stream",
     "text": [
      "Epoch 1/100, Loss: 732.1838356852531\n",
      "Epoch 2/100, Loss: 33.00602886080742\n",
      "Epoch 3/100, Loss: 25.237667053937912\n",
      "Epoch 4/100, Loss: 22.84402561187744\n",
      "Epoch 5/100, Loss: 20.70054043829441\n",
      "Epoch 6/100, Loss: 22.856901332736015\n",
      "Epoch 7/100, Loss: 25.10151155292988\n",
      "Epoch 8/100, Loss: 19.079931750893593\n",
      "Epoch 9/100, Loss: 21.614476323127747\n",
      "Epoch 10/100, Loss: 19.233547396957874\n",
      "Epoch 11/100, Loss: 25.84944784641266\n",
      "Epoch 12/100, Loss: 24.824898928403854\n",
      "Epoch 13/100, Loss: 20.740228421986103\n",
      "Epoch 14/100, Loss: 22.603432908654213\n",
      "Epoch 15/100, Loss: 19.970398671925068\n",
      "Epoch 16/100, Loss: 21.193776935338974\n",
      "Epoch 17/100, Loss: 23.6424545571208\n",
      "Epoch 18/100, Loss: 20.149856984615326\n",
      "Epoch 19/100, Loss: 23.453525453805923\n",
      "Epoch 20/100, Loss: 22.16780035197735\n",
      "Epoch 21/100, Loss: 23.381137184798717\n",
      "Epoch 22/100, Loss: 20.989773765206337\n",
      "Epoch 23/100, Loss: 20.252146139740944\n",
      "Epoch 24/100, Loss: 18.479285046458244\n",
      "Epoch 25/100, Loss: 27.31052578985691\n",
      "Epoch 26/100, Loss: 19.266815900802612\n",
      "Epoch 27/100, Loss: 24.684116423130035\n",
      "Epoch 28/100, Loss: 18.45741105079651\n",
      "Epoch 29/100, Loss: 19.65449447929859\n",
      "Epoch 30/100, Loss: 21.604532837867737\n",
      "Epoch 31/100, Loss: 21.227353900671005\n",
      "Epoch 32/100, Loss: 21.48177833855152\n",
      "Epoch 33/100, Loss: 23.8495879098773\n",
      "Epoch 34/100, Loss: 18.889972671866417\n",
      "Epoch 35/100, Loss: 28.452688418328762\n",
      "Epoch 36/100, Loss: 37.71077273786068\n",
      "Epoch 37/100, Loss: 27.73498012125492\n",
      "Epoch 38/100, Loss: 22.489152789115906\n",
      "Epoch 39/100, Loss: 23.99095782637596\n",
      "Epoch 40/100, Loss: 17.921377643942833\n",
      "Epoch 41/100, Loss: 19.83607667684555\n",
      "Epoch 42/100, Loss: 19.815039560198784\n",
      "Epoch 43/100, Loss: 19.861540913581848\n",
      "Epoch 44/100, Loss: 26.23894464969635\n",
      "Epoch 45/100, Loss: 23.990846633911133\n",
      "Epoch 46/100, Loss: 21.823981679975986\n",
      "Epoch 47/100, Loss: 23.138991072773933\n",
      "Epoch 48/100, Loss: 21.776287525892258\n",
      "Epoch 49/100, Loss: 17.28073264658451\n",
      "Epoch 50/100, Loss: 18.341161772608757\n",
      "Epoch 51/100, Loss: 18.94133122265339\n",
      "Epoch 52/100, Loss: 18.879351809620857\n",
      "Epoch 53/100, Loss: 34.47289419174194\n",
      "Epoch 54/100, Loss: 23.987652227282524\n",
      "Epoch 55/100, Loss: 19.747988626360893\n",
      "Epoch 56/100, Loss: 17.493872076272964\n",
      "Epoch 57/100, Loss: 23.77216313779354\n",
      "Epoch 58/100, Loss: 20.04750932753086\n",
      "Epoch 59/100, Loss: 30.45481502264738\n",
      "Epoch 60/100, Loss: 18.8979994058609\n",
      "Epoch 61/100, Loss: 19.251257106661797\n",
      "Epoch 62/100, Loss: 19.11584298312664\n",
      "Epoch 63/100, Loss: 16.934367455542088\n",
      "Epoch 64/100, Loss: 20.498552836477757\n",
      "Epoch 65/100, Loss: 33.25054205954075\n",
      "Epoch 66/100, Loss: 20.03850305825472\n",
      "Epoch 67/100, Loss: 16.788846626877785\n",
      "Epoch 68/100, Loss: 17.885503195226192\n",
      "Epoch 69/100, Loss: 27.06761969253421\n",
      "Epoch 70/100, Loss: 29.751676321029663\n",
      "Epoch 71/100, Loss: 16.98247091472149\n",
      "Epoch 72/100, Loss: 19.569010101258755\n",
      "Epoch 73/100, Loss: 20.895063310861588\n",
      "Epoch 74/100, Loss: 27.08598879724741\n",
      "Epoch 75/100, Loss: 17.548592895269394\n",
      "Epoch 76/100, Loss: 19.928665280342102\n",
      "Epoch 77/100, Loss: 18.52042329311371\n",
      "Epoch 78/100, Loss: 20.60575568675995\n",
      "Epoch 79/100, Loss: 16.78108549118042\n",
      "Epoch 80/100, Loss: 18.09139183163643\n",
      "Epoch 81/100, Loss: 20.60574098676443\n",
      "Epoch 82/100, Loss: 19.461271159350872\n",
      "Epoch 83/100, Loss: 22.533362850546837\n",
      "Epoch 84/100, Loss: 15.51464369893074\n",
      "Epoch 85/100, Loss: 18.63358908891678\n",
      "Epoch 86/100, Loss: 29.693388178944588\n",
      "Epoch 87/100, Loss: 28.618806764483452\n",
      "Epoch 88/100, Loss: 20.257379304617643\n",
      "Epoch 89/100, Loss: 22.44209124147892\n",
      "Epoch 90/100, Loss: 22.640940308570862\n",
      "Epoch 91/100, Loss: 16.092456720769405\n",
      "Epoch 92/100, Loss: 18.202725872397423\n",
      "Epoch 93/100, Loss: 18.238000497221947\n",
      "Epoch 94/100, Loss: 18.925379693508148\n",
      "Epoch 95/100, Loss: 20.07405526190996\n",
      "Epoch 96/100, Loss: 18.613868460059166\n",
      "Epoch 97/100, Loss: 18.53803499042988\n",
      "Epoch 98/100, Loss: 20.080991938710213\n",
      "Epoch 99/100, Loss: 20.100496627390385\n",
      "Epoch 100/100, Loss: 19.75419682264328\n"
     ]
    }
   ],
   "source": [
    "#### CREATING MODEL ####\n",
    "\n",
    "# Define the neural network architecture\n",
    "class SolubilityPredictor(nn.Module):\n",
    "    def __init__(self, input_dim, hidden_dim, output_dim):\n",
    "        super(SolubilityPredictor, self).__init__()\n",
    "        self.fc1 = nn.Linear(input_dim, hidden_dim)\n",
    "        self.relu = nn.ReLU()\n",
    "        self.fc2 = nn.Linear(hidden_dim, output_dim)\n",
    "\n",
    "    def forward(self, x):\n",
    "        x = self.fc1(x)\n",
    "        x = self.relu(x)\n",
    "        x = self.fc2(x)\n",
    "        return x\n",
    "\n",
    "# Define hyperparameters\n",
    "input_dim = X_data.shape[1]  # Number of molecular descriptors\n",
    "hidden_dim = 64  # Adjust to get best results\n",
    "output_dim = 1\n",
    "learning_rate = 0.001\n",
    "num_epochs = 100\n",
    "batch_size = 32\n",
    "\n",
    "#create dataloader for batch training\n",
    "train_dataset = TensorDataset(X_train_tensor, y_train_tensor)\n",
    "train_loader = DataLoader(train_dataset, batch_size=batch_size, shuffle=True)\n",
    "\n",
    "#initialize model, loss function (nn.MSELoss) and optimizer\n",
    "model = SolubilityPredictor(input_dim, hidden_dim, output_dim)\n",
    "criterion = nn.MSELoss()\n",
    "optimizer = optim.Adam(model.parameters(), lr=learning_rate)\n",
    "\n",
    "#training loop\n",
    "for epoch in range(num_epochs):\n",
    "    running_loss = 0.0\n",
    "    for inputs, labels in train_loader:\n",
    "        optimizer.zero_grad()\n",
    "        outputs = model(inputs)\n",
    "        loss = criterion(outputs, labels)\n",
    "        loss.backward()\n",
    "        optimizer.step()\n",
    "        running_loss += loss.item()\n",
    "    print(f\"Epoch {epoch+1}/{num_epochs}, Loss: {running_loss}\")\n"
   ]
  },
  {
   "cell_type": "code",
   "execution_count": 17,
   "metadata": {},
   "outputs": [
    {
     "name": "stdout",
     "output_type": "stream",
     "text": [
      "Validation Loss: 0.42376625537872314\n"
     ]
    }
   ],
   "source": [
    "\n",
    "# Evaluation\n",
    "with torch.no_grad():\n",
    "    val_outputs = model(X_test_tensor)\n",
    "    val_loss = criterion(val_outputs, y_test_tensor)\n",
    "    print(f\"Validation Loss: {val_loss.item()}\")"
   ]
  },
  {
   "cell_type": "code",
   "execution_count": null,
   "metadata": {},
   "outputs": [],
   "source": []
  }
 ],
 "metadata": {
  "kernelspec": {
   "display_name": "Python 3 (ipykernel)",
   "language": "python",
   "name": "python3"
  },
  "language_info": {
   "codemirror_mode": {
    "name": "ipython",
    "version": 3
   },
   "file_extension": ".py",
   "mimetype": "text/x-python",
   "name": "python",
   "nbconvert_exporter": "python",
   "pygments_lexer": "ipython3",
   "version": "3.10.14"
  }
 },
 "nbformat": 4,
 "nbformat_minor": 4
}
