{
 "cells": [
  {
   "cell_type": "markdown",
   "metadata": {},
   "source": [
    "Article from Philippe:\n",
    "https://practicalcheminformatics.blogspot.com/2023/06/getting-real-with-molecular-property.html\n"
   ]
  },
  {
   "cell_type": "code",
   "execution_count": 1,
   "metadata": {},
   "outputs": [
    {
     "name": "stdout",
     "output_type": "stream",
     "text": [
      "Index(['Internal ID', 'Vendor ID', 'SMILES', 'CollectionName',\n",
      "       'LOG HLM_CLint (mL/min/kg)', 'LOG MDR1-MDCK ER (B-A/A-B)',\n",
      "       'LOG SOLUBILITY PH 6.8 (ug/mL)',\n",
      "       'LOG PLASMA PROTEIN BINDING (HUMAN) (% unbound)',\n",
      "       'LOG PLASMA PROTEIN BINDING (RAT) (% unbound)',\n",
      "       'LOG RLM_CLint (mL/min/kg)'],\n",
      "      dtype='object')\n",
      "Index(['No', 'Name', 'Updated SMILES', '%F', 'logK(%F)', 'Category', 'Source'], dtype='object')\n"
     ]
    }
   ],
   "source": [
    "# load biogen data\n",
    "import pandas as pd\n",
    "\n",
    "biogen_data=pd.read_csv(\"ADME_public_set_3521.csv\")\n",
    "print(biogen_data.columns)\n",
    "\n",
    "#load bioavailabity data\n",
    "bio_avail_data = pd.read_csv(\"11095_2013_1222_MOESM2_ESM.csv\",sep=\";\")\n",
    "print(bio_avail_data.columns)\n",
    "\n"
   ]
  },
  {
   "cell_type": "markdown",
   "metadata": {},
   "source": [
    "use feed-forward NN using pytorch.\n",
    "train on solubility from dataset 1 first.\n",
    "then optimize for bioavailability"
   ]
  },
  {
   "cell_type": "code",
   "execution_count": 13,
   "metadata": {},
   "outputs": [],
   "source": [
    "import torch\n",
    "import torch.nn as nn\n",
    "import torch.optim as optim\n",
    "from torch.utils.data import DataLoader, TensorDataset\n",
    "from sklearn.model_selection import train_test_split\n",
    "from rdkit import Chem\n",
    "from rdkit.Chem import AllChem\n",
    "import numpy as np\n",
    "from deepchem.feat import RDKitDescriptors\n",
    "\n",
    "#### DATA PREPARATION ####\n",
    "\n",
    "# Function to generate features from SMILES strings using RDKit descriptors\n",
    "def generate_features(smiles_list):\n",
    "    featurizer = RDKitDescriptors()\n",
    "    features = featurizer.featurize(smiles_list)\n",
    "    # Drop features containing invalid values\n",
    "    features = features[:, ~np.isnan(features).any(axis=0)]\n",
    "    return features\n",
    "\n",
    "#remove nan values from data\n",
    "biogen_data = biogen_data.dropna(subset=['LOG SOLUBILITY PH 6.8 (ug/mL)'])\n",
    "\n",
    "#get x and y data (x is the molecular descriptors, y is the solubility)\n",
    "y_data = biogen_data[\"LOG SOLUBILITY PH 6.8 (ug/mL)\"]\n",
    "\n",
    "print(len(y_data))\n",
    "\n",
    "# Generate features from SMILES data (get smiles from df)\n",
    "smiles = biogen_data[\"SMILES\"]\n",
    "X_data = generate_features(smiles)\n",
    "\n",
    "#split data into training and validation using train_test_split\n",
    "X_train, X_test, y_train, y_test = train_test_split(X_data, y_data, test_size=0.2, random_state=42)\n",
    "# Convert y pandas Series to NumPy array\n",
    "y_train = y_train.values.astype(np.float32)\n",
    "y_test = y_test.values.astype(np.float32)\n",
    "\n",
    "#convert data to pytorch tensors (like numpy arrays but for pytorch)\n",
    "X_train_tensor = torch.tensor(X_train, dtype=torch.float32)\n",
    "y_train_tensor = torch.tensor(y_train, dtype=torch.float32)\n",
    "X_test_tensor = torch.tensor(X_test, dtype=torch.float32)\n",
    "y_test_tensor = torch.tensor(y_test, dtype=torch.float32)\n",
    "\n",
    "# Reshape the target tensor to match the shape of the output tensor\n",
    "y_train_tensor = y_train_tensor.view(-1, 1)\n",
    "# Reshape the target tensor to match the shape of the output tensor\n",
    "y_test_tensor = y_test_tensor.view(-1, 1)\n"
   ]
  },
  {
   "cell_type": "code",
   "execution_count": 14,
   "metadata": {},
   "outputs": [
    {
     "data": {
      "text/plain": [
       "tensor([[ 3.0866,  2.5215, -2.4641,  ...,  0.0000,  0.0000,  0.8025],\n",
       "        [ 3.2671,  2.4088, -2.1844,  ...,  0.0000,  0.0000,  0.9169],\n",
       "        [ 3.0378,  2.2070, -2.3582,  ...,  0.0000,  0.0000,  0.7843],\n",
       "        ...,\n",
       "        [ 2.9562,  2.1637, -2.0880,  ...,  0.0000,  0.0000,  0.6843],\n",
       "        [ 2.1544,  2.1185, -2.2393,  ...,  0.0000,  0.0000,  0.7248],\n",
       "        [ 2.9430,  2.0381, -1.9899,  ...,  0.0000,  0.0000,  0.7946]])"
      ]
     },
     "execution_count": 14,
     "metadata": {},
     "output_type": "execute_result"
    }
   ],
   "source": [
    "y_train_tensor"
   ]
  },
  {
   "cell_type": "code",
   "execution_count": 15,
   "metadata": {},
   "outputs": [
    {
     "ename": "AssertionError",
     "evalue": "Size mismatch between tensors",
     "output_type": "error",
     "traceback": [
      "\u001b[1;31m---------------------------------------------------------------------------\u001b[0m",
      "\u001b[1;31mAssertionError\u001b[0m                            Traceback (most recent call last)",
      "Cell \u001b[1;32mIn[15], line 26\u001b[0m\n\u001b[0;32m     23\u001b[0m batch_size \u001b[38;5;241m=\u001b[39m \u001b[38;5;241m32\u001b[39m\n\u001b[0;32m     25\u001b[0m \u001b[38;5;66;03m#create dataloader for batch training\u001b[39;00m\n\u001b[1;32m---> 26\u001b[0m train_dataset \u001b[38;5;241m=\u001b[39m TensorDataset(X_train_tensor, y_train_tensor)\n\u001b[0;32m     27\u001b[0m train_loader \u001b[38;5;241m=\u001b[39m DataLoader(train_dataset, batch_size\u001b[38;5;241m=\u001b[39mbatch_size, shuffle\u001b[38;5;241m=\u001b[39m\u001b[38;5;28;01mTrue\u001b[39;00m)\n\u001b[0;32m     29\u001b[0m \u001b[38;5;66;03m#initialize model, loss function (nn.MSELoss) and optimizer\u001b[39;00m\n",
      "File \u001b[1;32mc:\\Users\\nina\\anaconda3\\envs\\ai_chem\\Lib\\site-packages\\torch\\utils\\data\\dataset.py:202\u001b[0m, in \u001b[0;36mTensorDataset.__init__\u001b[1;34m(self, *tensors)\u001b[0m\n\u001b[0;32m    201\u001b[0m \u001b[38;5;28;01mdef\u001b[39;00m \u001b[38;5;21m__init__\u001b[39m(\u001b[38;5;28mself\u001b[39m, \u001b[38;5;241m*\u001b[39mtensors: Tensor) \u001b[38;5;241m-\u001b[39m\u001b[38;5;241m>\u001b[39m \u001b[38;5;28;01mNone\u001b[39;00m:\n\u001b[1;32m--> 202\u001b[0m     \u001b[38;5;28;01massert\u001b[39;00m \u001b[38;5;28mall\u001b[39m(tensors[\u001b[38;5;241m0\u001b[39m]\u001b[38;5;241m.\u001b[39msize(\u001b[38;5;241m0\u001b[39m) \u001b[38;5;241m==\u001b[39m tensor\u001b[38;5;241m.\u001b[39msize(\u001b[38;5;241m0\u001b[39m) \u001b[38;5;28;01mfor\u001b[39;00m tensor \u001b[38;5;129;01min\u001b[39;00m tensors), \u001b[38;5;124m\"\u001b[39m\u001b[38;5;124mSize mismatch between tensors\u001b[39m\u001b[38;5;124m\"\u001b[39m\n\u001b[0;32m    203\u001b[0m     \u001b[38;5;28mself\u001b[39m\u001b[38;5;241m.\u001b[39mtensors \u001b[38;5;241m=\u001b[39m tensors\n",
      "\u001b[1;31mAssertionError\u001b[0m: Size mismatch between tensors"
     ]
    }
   ],
   "source": [
    "#### CREATING MODEL ####\n",
    "\n",
    "# Define the neural network architecture\n",
    "class SolubilityPredictor(nn.Module):\n",
    "    def __init__(self, input_dim, hidden_dim, output_dim):\n",
    "        super(SolubilityPredictor, self).__init__()\n",
    "        self.fc1 = nn.Linear(input_dim, hidden_dim)\n",
    "        self.relu = nn.ReLU()\n",
    "        self.fc2 = nn.Linear(hidden_dim, output_dim)\n",
    "\n",
    "    def forward(self, x):\n",
    "        x = self.fc1(x)\n",
    "        x = self.relu(x)\n",
    "        x = self.fc2(x)\n",
    "        return x\n",
    "\n",
    "# Define hyperparameters\n",
    "input_dim = X_data.shape[1]  # Number of molecular descriptors\n",
    "hidden_dim = 64  # Adjust to get best results\n",
    "output_dim = 1\n",
    "learning_rate = 0.001\n",
    "num_epochs = 50\n",
    "batch_size = 32\n",
    "\n",
    "#create dataloader for batch training\n",
    "train_dataset = TensorDataset(X_train_tensor, y_train_tensor)\n",
    "train_loader = DataLoader(train_dataset, batch_size=batch_size, shuffle=True)\n",
    "\n",
    "#initialize model, loss function (nn.MSELoss) and optimizer\n",
    "model = SolubilityPredictor(input_dim, hidden_dim, output_dim)\n",
    "criterion = nn.MSELoss()\n",
    "optimizer = optim.Adam(model.parameters(), lr=learning_rate)\n",
    "\n",
    "#training loop\n",
    "for epoch in range(num_epochs):\n",
    "    running_loss = 0.0\n",
    "    for inputs, labels in train_loader:\n",
    "        optimizer.zero_grad()\n",
    "        outputs = model(inputs)\n",
    "        loss = criterion(outputs, labels)\n",
    "        loss.backward()\n",
    "        optimizer.step()\n",
    "        running_loss += loss.item()\n",
    "    print(f\"Epoch {epoch+1}/{num_epochs}, Loss: {running_loss}\")\n"
   ]
  },
  {
   "cell_type": "code",
   "execution_count": 9,
   "metadata": {},
   "outputs": [
    {
     "name": "stdout",
     "output_type": "stream",
     "text": [
      "Validation Loss: nan\n"
     ]
    },
    {
     "name": "stderr",
     "output_type": "stream",
     "text": [
      "c:\\Users\\nina\\anaconda3\\envs\\ai_chem\\Lib\\site-packages\\torch\\nn\\modules\\loss.py:535: UserWarning: Using a target size (torch.Size([705])) that is different to the input size (torch.Size([705, 1])). This will likely lead to incorrect results due to broadcasting. Please ensure they have the same size.\n",
      "  return F.mse_loss(input, target, reduction=self.reduction)\n"
     ]
    }
   ],
   "source": [
    "\n",
    "# Evaluation\n",
    "with torch.no_grad():\n",
    "    val_outputs = model(X_test_tensor)\n",
    "    val_loss = criterion(val_outputs, y_test_tensor)\n",
    "    print(f\"Validation Loss: {val_loss.item()}\")"
   ]
  }
 ],
 "metadata": {
  "kernelspec": {
   "display_name": "base",
   "language": "python",
   "name": "python3"
  },
  "language_info": {
   "codemirror_mode": {
    "name": "ipython",
    "version": 3
   },
   "file_extension": ".py",
   "mimetype": "text/x-python",
   "name": "python",
   "nbconvert_exporter": "python",
   "pygments_lexer": "ipython3",
   "version": "3.11.5"
  }
 },
 "nbformat": 4,
 "nbformat_minor": 2
}
