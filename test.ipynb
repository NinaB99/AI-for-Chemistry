{
 "cells": [
  {
   "cell_type": "markdown",
   "metadata": {},
   "source": [
    "Article from Philippe:\n",
    "https://practicalcheminformatics.blogspot.com/2023/06/getting-real-with-molecular-property.html\n"
   ]
  },
  {
   "cell_type": "code",
   "execution_count": 1,
   "metadata": {},
   "outputs": [
    {
     "name": "stdout",
     "output_type": "stream",
     "text": [
      "Index(['Internal ID', 'Vendor ID', 'SMILES', 'CollectionName',\n",
      "       'LOG HLM_CLint (mL/min/kg)', 'LOG MDR1-MDCK ER (B-A/A-B)',\n",
      "       'LOG SOLUBILITY PH 6.8 (ug/mL)',\n",
      "       'LOG PLASMA PROTEIN BINDING (HUMAN) (% unbound)',\n",
      "       'LOG PLASMA PROTEIN BINDING (RAT) (% unbound)',\n",
      "       'LOG RLM_CLint (mL/min/kg)'],\n",
      "      dtype='object')\n",
      "Index(['No', 'Name', 'Updated SMILES', '%F', 'logK(%F)', 'Category', 'Source'], dtype='object')\n"
     ]
    }
   ],
   "source": [
    "# load biogen data\n",
    "import pandas as pd\n",
    "\n",
    "biogen_data=pd.read_csv(\"ADME_public_set_3521.csv\")\n",
    "print(biogen_data.columns)\n",
    "\n",
    "#load bioavailabity data\n",
    "bio_avail_data = pd.read_csv(\"11095_2013_1222_MOESM2_ESM.csv\",sep=\";\")\n",
    "print(bio_avail_data.columns)\n",
    "\n"
   ]
  },
  {
   "cell_type": "markdown",
   "metadata": {},
   "source": [
    "use feed-forward NN using pytorch.\n",
    "train on solubility from dataset 1 first.\n",
    "then optimize for bioavailability"
   ]
  },
  {
   "cell_type": "code",
   "execution_count": 16,
   "metadata": {},
   "outputs": [
    {
     "name": "stdout",
     "output_type": "stream",
     "text": [
      "2173\n"
     ]
    }
   ],
   "source": [
    "import torch\n",
    "import torch.nn as nn\n",
    "import torch.optim as optim\n",
    "from torch.utils.data import DataLoader, TensorDataset\n",
    "from sklearn.model_selection import train_test_split\n",
    "from rdkit import Chem\n",
    "from rdkit.Chem import AllChem\n",
    "import numpy as np\n",
    "from deepchem.feat import RDKitDescriptors\n",
    "\n",
    "#### DATA PREPARATION ####\n",
    "\n",
    "# Function to generate features from SMILES strings using RDKit descriptors\n",
    "def generate_features(smiles_list):\n",
    "    featurizer = RDKitDescriptors()\n",
    "    features = featurizer.featurize(smiles_list)\n",
    "    # Drop features containing invalid values\n",
    "    features = features[:, ~np.isnan(features).any(axis=0)]\n",
    "    return features\n",
    "\n",
    "#remove nan values from data\n",
    "biogen_data = biogen_data.dropna(subset=['LOG SOLUBILITY PH 6.8 (ug/mL)'])\n",
    "\n",
    "#get x and y data (x is the molecular descriptors, y is the solubility)\n",
    "y_data = biogen_data[\"LOG SOLUBILITY PH 6.8 (ug/mL)\"]\n",
    "\n",
    "print(len(y_data))\n",
    "\n",
    "# Generate features from SMILES data (get smiles from df)\n",
    "smiles = biogen_data[\"SMILES\"]\n",
    "X_data = generate_features(smiles)\n",
    "\n",
    "#split data into training and validation using train_test_split\n",
    "X_train, X_test, y_train, y_test = train_test_split(X_data, y_data, test_size=0.2, random_state=42)\n",
    "# Convert y pandas Series to NumPy array\n",
    "y_train = y_train.values.astype(np.float32)\n",
    "y_test = y_test.values.astype(np.float32)\n",
    "\n",
    "#convert data to pytorch tensors (like numpy arrays but for pytorch)\n",
    "X_train_tensor = torch.tensor(X_train, dtype=torch.float32)\n",
    "y_train_tensor = torch.tensor(y_train, dtype=torch.float32)\n",
    "X_test_tensor = torch.tensor(X_test, dtype=torch.float32)\n",
    "y_test_tensor = torch.tensor(y_test, dtype=torch.float32)\n",
    "\n",
    "# Reshape the target tensor to match the shape of the output tensor\n",
    "y_train_tensor = y_train_tensor.view(-1, 1)\n",
    "# Reshape the target tensor to match the shape of the output tensor\n",
    "y_test_tensor = y_test_tensor.view(-1, 1)\n"
   ]
  },
  {
   "cell_type": "code",
   "execution_count": 17,
   "metadata": {},
   "outputs": [
    {
     "data": {
      "text/plain": [
       "tensor([[1.5611],\n",
       "        [1.2833],\n",
       "        [1.4866],\n",
       "        ...,\n",
       "        [1.6120],\n",
       "        [1.4669],\n",
       "        [1.6514]])"
      ]
     },
     "execution_count": 17,
     "metadata": {},
     "output_type": "execute_result"
    }
   ],
   "source": [
    "y_train_tensor"
   ]
  },
  {
   "cell_type": "code",
   "execution_count": 22,
   "metadata": {},
   "outputs": [
    {
     "name": "stdout",
     "output_type": "stream",
     "text": [
      "Epoch 1/100, Loss: 189.29155659675598\n",
      "Epoch 2/100, Loss: 38.372320637106895\n",
      "Epoch 3/100, Loss: 24.113596066832542\n",
      "Epoch 4/100, Loss: 22.577118560671806\n",
      "Epoch 5/100, Loss: 31.019078195095062\n",
      "Epoch 6/100, Loss: 26.367550119757652\n",
      "Epoch 7/100, Loss: 21.449614644050598\n",
      "Epoch 8/100, Loss: 24.10814942419529\n",
      "Epoch 9/100, Loss: 20.205865681171417\n",
      "Epoch 10/100, Loss: 27.486654669046402\n",
      "Epoch 11/100, Loss: 20.52155862748623\n",
      "Epoch 12/100, Loss: 24.052323192358017\n",
      "Epoch 13/100, Loss: 20.832928866147995\n",
      "Epoch 14/100, Loss: 21.553574100136757\n",
      "Epoch 15/100, Loss: 19.75460498034954\n",
      "Epoch 16/100, Loss: 22.143404453992844\n",
      "Epoch 17/100, Loss: 20.54713310301304\n",
      "Epoch 18/100, Loss: 22.297346368432045\n",
      "Epoch 19/100, Loss: 19.530448868870735\n",
      "Epoch 20/100, Loss: 19.590066641569138\n",
      "Epoch 21/100, Loss: 28.535822689533234\n",
      "Epoch 22/100, Loss: 22.134691447019577\n",
      "Epoch 23/100, Loss: 22.84657770395279\n",
      "Epoch 24/100, Loss: 21.280014470219612\n",
      "Epoch 25/100, Loss: 26.045126996934414\n",
      "Epoch 26/100, Loss: 19.809996508061886\n",
      "Epoch 27/100, Loss: 19.146925292909145\n",
      "Epoch 28/100, Loss: 22.790378227829933\n",
      "Epoch 29/100, Loss: 20.856536872684956\n",
      "Epoch 30/100, Loss: 22.393033519387245\n",
      "Epoch 31/100, Loss: 23.942223958671093\n",
      "Epoch 32/100, Loss: 20.1979091912508\n",
      "Epoch 33/100, Loss: 17.5702957957983\n",
      "Epoch 34/100, Loss: 17.598088935017586\n",
      "Epoch 35/100, Loss: 21.27681802213192\n",
      "Epoch 36/100, Loss: 17.205268897116184\n",
      "Epoch 37/100, Loss: 19.919559687376022\n",
      "Epoch 38/100, Loss: 32.58454558253288\n",
      "Epoch 39/100, Loss: 21.944275945425034\n",
      "Epoch 40/100, Loss: 22.238010972738266\n",
      "Epoch 41/100, Loss: 22.359678968787193\n",
      "Epoch 42/100, Loss: 17.89940831065178\n",
      "Epoch 43/100, Loss: 19.792128942906857\n",
      "Epoch 44/100, Loss: 21.441169038414955\n",
      "Epoch 45/100, Loss: 23.841324523091316\n",
      "Epoch 46/100, Loss: 27.776130571961403\n",
      "Epoch 47/100, Loss: 22.741699248552322\n",
      "Epoch 48/100, Loss: 20.984351634979248\n",
      "Epoch 49/100, Loss: 17.149873599410057\n",
      "Epoch 50/100, Loss: 15.433861210942268\n",
      "Epoch 51/100, Loss: 23.189439967274666\n",
      "Epoch 52/100, Loss: 20.65957722812891\n",
      "Epoch 53/100, Loss: 17.359528079628944\n",
      "Epoch 54/100, Loss: 15.851672999560833\n",
      "Epoch 55/100, Loss: 17.68012122064829\n",
      "Epoch 56/100, Loss: 23.199506282806396\n",
      "Epoch 57/100, Loss: 20.81311033666134\n",
      "Epoch 58/100, Loss: 17.16741333901882\n",
      "Epoch 59/100, Loss: 16.891869969666004\n",
      "Epoch 60/100, Loss: 17.22715836018324\n",
      "Epoch 61/100, Loss: 15.98146140575409\n",
      "Epoch 62/100, Loss: 19.331297427415848\n",
      "Epoch 63/100, Loss: 16.991753295063972\n",
      "Epoch 64/100, Loss: 19.83851170539856\n",
      "Epoch 65/100, Loss: 18.391502127051353\n",
      "Epoch 66/100, Loss: 18.86409141123295\n",
      "Epoch 67/100, Loss: 18.94414758682251\n",
      "Epoch 68/100, Loss: 19.731279581785202\n",
      "Epoch 69/100, Loss: 20.570762518793344\n",
      "Epoch 70/100, Loss: 16.49328887462616\n",
      "Epoch 71/100, Loss: 17.568353034555912\n",
      "Epoch 72/100, Loss: 15.974522478878498\n",
      "Epoch 73/100, Loss: 16.02814444899559\n",
      "Epoch 74/100, Loss: 15.115756280720234\n",
      "Epoch 75/100, Loss: 21.518741451203823\n",
      "Epoch 76/100, Loss: 19.517113529145718\n",
      "Epoch 77/100, Loss: 17.922497160732746\n",
      "Epoch 78/100, Loss: 20.26176205277443\n",
      "Epoch 79/100, Loss: 16.98047962784767\n",
      "Epoch 80/100, Loss: 18.535911820828915\n",
      "Epoch 81/100, Loss: 15.698011711239815\n",
      "Epoch 82/100, Loss: 17.565522521734238\n",
      "Epoch 83/100, Loss: 23.695993594825268\n",
      "Epoch 84/100, Loss: 16.355740129947662\n",
      "Epoch 85/100, Loss: 19.17668467015028\n",
      "Epoch 86/100, Loss: 18.82159038633108\n",
      "Epoch 87/100, Loss: 17.590076990425587\n",
      "Epoch 88/100, Loss: 16.60117059201002\n",
      "Epoch 89/100, Loss: 15.957861572504044\n",
      "Epoch 90/100, Loss: 15.178118981420994\n",
      "Epoch 91/100, Loss: 16.237445503473282\n",
      "Epoch 92/100, Loss: 15.84365164116025\n",
      "Epoch 93/100, Loss: 19.025422118604183\n",
      "Epoch 94/100, Loss: 17.700854510068893\n",
      "Epoch 95/100, Loss: 21.614940002560616\n",
      "Epoch 96/100, Loss: 15.155242830514908\n",
      "Epoch 97/100, Loss: 18.453850217163563\n",
      "Epoch 98/100, Loss: 19.68387694656849\n",
      "Epoch 99/100, Loss: 16.22622098773718\n",
      "Epoch 100/100, Loss: 15.127666600048542\n"
     ]
    }
   ],
   "source": [
    "#### CREATING MODEL ####\n",
    "\n",
    "# Define the neural network architecture\n",
    "class SolubilityPredictor(nn.Module):\n",
    "    def __init__(self, input_dim, hidden_dim, output_dim):\n",
    "        super(SolubilityPredictor, self).__init__()\n",
    "        self.fc1 = nn.Linear(input_dim, hidden_dim)\n",
    "        self.relu = nn.ReLU()\n",
    "        self.fc2 = nn.Linear(hidden_dim, output_dim)\n",
    "\n",
    "    def forward(self, x):\n",
    "        x = self.fc1(x)\n",
    "        x = self.relu(x)\n",
    "        x = self.fc2(x)\n",
    "        return x\n",
    "\n",
    "# Define hyperparameters\n",
    "input_dim = X_data.shape[1]  # Number of molecular descriptors\n",
    "hidden_dim = 64  # Adjust to get best results\n",
    "output_dim = 1\n",
    "learning_rate = 0.001\n",
    "num_epochs = 100\n",
    "batch_size = 32\n",
    "\n",
    "#create dataloader for batch training\n",
    "train_dataset = TensorDataset(X_train_tensor, y_train_tensor)\n",
    "train_loader = DataLoader(train_dataset, batch_size=batch_size, shuffle=True)\n",
    "\n",
    "#initialize model, loss function (nn.MSELoss) and optimizer\n",
    "model = SolubilityPredictor(input_dim, hidden_dim, output_dim)\n",
    "criterion = nn.MSELoss()\n",
    "optimizer = optim.Adam(model.parameters(), lr=learning_rate)\n",
    "\n",
    "#training loop\n",
    "for epoch in range(num_epochs):\n",
    "    running_loss = 0.0\n",
    "    for inputs, labels in train_loader:\n",
    "        optimizer.zero_grad()\n",
    "        outputs = model(inputs)\n",
    "        loss = criterion(outputs, labels)\n",
    "        loss.backward()\n",
    "        optimizer.step()\n",
    "        running_loss += loss.item()\n",
    "    print(f\"Epoch {epoch+1}/{num_epochs}, Loss: {running_loss}\")\n"
   ]
  },
  {
   "cell_type": "code",
   "execution_count": 23,
   "metadata": {},
   "outputs": [
    {
     "name": "stdout",
     "output_type": "stream",
     "text": [
      "Validation Loss: 0.44780904054641724\n"
     ]
    }
   ],
   "source": [
    "\n",
    "# Evaluation\n",
    "with torch.no_grad():\n",
    "    val_outputs = model(X_test_tensor)\n",
    "    val_loss = criterion(val_outputs, y_test_tensor)\n",
    "    print(f\"Validation Loss: {val_loss.item()}\")"
   ]
  }
 ],
 "metadata": {
  "kernelspec": {
   "display_name": "base",
   "language": "python",
   "name": "python3"
  },
  "language_info": {
   "codemirror_mode": {
    "name": "ipython",
    "version": 3
   },
   "file_extension": ".py",
   "mimetype": "text/x-python",
   "name": "python",
   "nbconvert_exporter": "python",
   "pygments_lexer": "ipython3",
   "version": "3.11.5"
  }
 },
 "nbformat": 4,
 "nbformat_minor": 2
}
