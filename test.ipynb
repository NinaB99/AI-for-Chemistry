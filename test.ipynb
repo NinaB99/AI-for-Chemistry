{
 "cells": [
  {
   "cell_type": "markdown",
   "metadata": {},
   "source": [
    "Article from Philippe:\n",
    "https://practicalcheminformatics.blogspot.com/2023/06/getting-real-with-molecular-property.html\n"
   ]
  },
  {
   "cell_type": "code",
   "execution_count": 1,
   "metadata": {},
   "outputs": [
    {
     "name": "stdout",
     "output_type": "stream",
     "text": [
      "hello\n"
     ]
    }
   ],
   "source": [
    "print(\"hello\")"
   ]
  },
  {
   "cell_type": "code",
   "execution_count": 2,
   "metadata": {},
   "outputs": [
    {
     "name": "stdout",
     "output_type": "stream",
     "text": [
      "Index(['Internal ID', 'Vendor ID', 'SMILES', 'CollectionName',\n",
      "       'LOG HLM_CLint (mL/min/kg)', 'LOG MDR1-MDCK ER (B-A/A-B)',\n",
      "       'LOG SOLUBILITY PH 6.8 (ug/mL)',\n",
      "       'LOG PLASMA PROTEIN BINDING (HUMAN) (% unbound)',\n",
      "       'LOG PLASMA PROTEIN BINDING (RAT) (% unbound)',\n",
      "       'LOG RLM_CLint (mL/min/kg)'],\n",
      "      dtype='object')\n"
     ]
    }
   ],
   "source": [
    "# load data\n",
    "import pandas as pd\n",
    "\n",
    "data=pd.read_csv(\"ADME_public_set_3521.csv\")\n",
    "\n",
    "print(data.columns)"
   ]
  }
 ],
 "metadata": {
  "kernelspec": {
   "display_name": "base",
   "language": "python",
   "name": "python3"
  },
  "language_info": {
   "codemirror_mode": {
    "name": "ipython",
    "version": 3
   },
   "file_extension": ".py",
   "mimetype": "text/x-python",
   "name": "python",
   "nbconvert_exporter": "python",
   "pygments_lexer": "ipython3",
   "version": "3.11.5"
  }
 },
 "nbformat": 4,
 "nbformat_minor": 2
}
